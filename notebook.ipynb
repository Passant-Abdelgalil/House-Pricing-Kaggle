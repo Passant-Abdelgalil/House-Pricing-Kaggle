{
 "cells": [
  {
   "cell_type": "code",
   "execution_count": 1,
   "metadata": {},
   "outputs": [],
   "source": [
    "import pandas as pd\n",
    "import numpy as np\n",
    "from sklearn.linear_model import LinearRegression\n",
    "from sklearn.linear_model import Lasso, Ridge, RidgeCV\n",
    "from sklearn.ensemble import RandomForestRegressor\n",
    "import seaborn as sns\n",
    "from sklearn.model_selection import train_test_split\n",
    "from sklearn.decomposition import PCA\n",
    "from sklearn.metrics import mean_squared_error\n",
    "from sklearn.preprocessing import MinMaxScaler\n",
    "from sklearn.ensemble import VotingRegressor\n",
    "from xgboost.sklearn import XGBRegressor, XGBRFRegressor\n",
    "from sklearn.ensemble import GradientBoostingRegressor\n",
    "from sklearn.preprocessing import StandardScaler\n",
    "from collections import Counter\n",
    "import matplotlib.pyplot as plt\n"
   ]
  },
  {
   "cell_type": "code",
   "execution_count": 2,
   "metadata": {},
   "outputs": [],
   "source": [
    "train_path = './data/train.csv'\n",
    "test_path = './data/test.csv'\n",
    "\n",
    "train_df = pd.read_csv(train_path)\n",
    "train_target = train_df.SalePrice\n",
    "train_df = train_df.drop('SalePrice', axis = 1)\n",
    "\n",
    "test_df = pd.read_csv(test_path)\n"
   ]
  },
  {
   "cell_type": "code",
   "execution_count": null,
   "metadata": {},
   "outputs": [],
   "source": [
    "sns.pairplot(train_df)"
   ]
  },
  {
   "cell_type": "code",
   "execution_count": null,
   "metadata": {},
   "outputs": [],
   "source": [
    "for col in train_df.columns:\n",
    "    print(Counter(train_df[col]))\n",
    "    "
   ]
  },
  {
   "cell_type": "code",
   "execution_count": null,
   "metadata": {},
   "outputs": [],
   "source": [
    "for col in train_df.columns:\n",
    "    "
   ]
  },
  {
   "cell_type": "code",
   "execution_count": null,
   "metadata": {},
   "outputs": [],
   "source": [
    "print(train_df.columns[train_df.isnull().sum() !=0])"
   ]
  },
  {
   "cell_type": "code",
   "execution_count": null,
   "metadata": {},
   "outputs": [],
   "source": [
    "print(test_df.columns[test_df.isnull().sum() !=0])"
   ]
  },
  {
   "cell_type": "markdown",
   "metadata": {},
   "source": [
    "**It seems like all the above columns have missing values, but if we read the data explanation we can see that NA is treated in some features as a categorical value.\n",
    "so we need to encode these catecgorical features first before we handle the missing values**"
   ]
  },
  {
   "cell_type": "code",
   "execution_count": 3,
   "metadata": {},
   "outputs": [],
   "source": [
    "def encoding(data):\n",
    "    for col in data.columns:\n",
    "        if (data[col].dtype == 'object'):\n",
    "            data[col] = pd.Categorical(data[col])\n",
    "            data[col] = data[col].cat.codes\n",
    "            if (len(data[data[col]== -1]) !=0):\n",
    "                data[col] = data[col] + 1\n",
    "    return data"
   ]
  },
  {
   "cell_type": "code",
   "execution_count": 4,
   "metadata": {},
   "outputs": [],
   "source": [
    "train_df = encoding(train_df)\n",
    "test_df = encoding(test_df)"
   ]
  },
  {
   "cell_type": "code",
   "execution_count": null,
   "metadata": {},
   "outputs": [],
   "source": [
    "print(train_df.columns[train_df.isnull().sum() !=0])\n",
    "print(test_df.columns[test_df.isnull().sum() !=0])"
   ]
  },
  {
   "cell_type": "code",
   "execution_count": 5,
   "metadata": {},
   "outputs": [],
   "source": [
    "train_df = train_df.drop('Id', axis = 1)"
   ]
  },
  {
   "cell_type": "code",
   "execution_count": null,
   "metadata": {},
   "outputs": [],
   "source": [
    "sns.heatmap(train_df[['LotFrontage', 'LandContour', 'LotShape', 'LotConfig', 'LandSlope']].corr(), cmap = 'BrBG', fmt = '.2f', annot = True)"
   ]
  },
  {
   "cell_type": "code",
   "execution_count": 7,
   "metadata": {},
   "outputs": [],
   "source": [
    "def lotFront_nanVal(data):\n",
    "    nan_index = data[data['LotFrontage'].isnull()].index\n",
    "    print(\"Number of nan values: \", len(nan_index))\n",
    "    for i in nan_index:\n",
    "\n",
    "        aveg = None\n",
    "        td = data[(data['LotConfig'].iloc[i] == data['LotConfig']) # mask of SibSp values in train_data with same value of ith raw SibSp value\n",
    "                                & (data['LotShape'].iloc[i] == data['LotShape'])].index\n",
    "\n",
    "        aveg = data.loc[td , 'LotFrontage'].dropna().mean()\n",
    "        # if these values were unique then aveg won't have a value\n",
    "        # so we substitue with the median of all Age values\n",
    "        if not np.isnan(aveg):\n",
    "            data.loc[i, 'LotFrontage'] = aveg\n",
    "        else:\n",
    "            r =  data['LotFrontage'].dropna().mean()\n",
    "            data.loc[i, 'LotFrontage'] = r\n",
    "    return data"
   ]
  },
  {
   "cell_type": "code",
   "execution_count": 8,
   "metadata": {},
   "outputs": [
    {
     "name": "stdout",
     "output_type": "stream",
     "text": [
      "Number of nan values:  259\n"
     ]
    }
   ],
   "source": [
    "train_df = lotFront_nanVal(train_df)"
   ]
  },
  {
   "cell_type": "code",
   "execution_count": 9,
   "metadata": {},
   "outputs": [
    {
     "data": {
      "text/plain": [
       "0"
      ]
     },
     "execution_count": 9,
     "metadata": {},
     "output_type": "execute_result"
    }
   ],
   "source": [
    "train_df['LotFrontage'].isnull().sum()"
   ]
  },
  {
   "cell_type": "code",
   "execution_count": 10,
   "metadata": {},
   "outputs": [],
   "source": [
    "def MasVnrArea_nanVal(data):\n",
    "    nan_index = data[data['MasVnrArea'].isnull()].index\n",
    "    nan_index.append((data['MasVnrArea'] == 0).index)\n",
    "    print(\"Number of nan values: \", len(nan_index))\n",
    "    for i in nan_index:\n",
    "\n",
    "        aveg = None\n",
    "        td = data[(data['MasVnrType'].iloc[i] == data['MasVnrType'])].index\n",
    "\n",
    "        aveg = data.loc[td , 'MasVnrArea'].dropna().mean()\n",
    "        # if these values were unique then aveg won't have a value\n",
    "        # so we substitue with the median of all Age values\n",
    "        if not np.isnan(aveg):\n",
    "            data.loc[i, 'MasVnrArea'] = aveg\n",
    "        else:\n",
    "            r =  data['MasVnrArea'].dropna().mean()\n",
    "            data.loc[i, 'MasVnrArea'] = r\n",
    "    return data"
   ]
  },
  {
   "cell_type": "code",
   "execution_count": 11,
   "metadata": {},
   "outputs": [
    {
     "name": "stdout",
     "output_type": "stream",
     "text": [
      "Number of nan values:  8\n"
     ]
    }
   ],
   "source": [
    "train_df ['LotFrontage'] = train_df['LotFrontage'].fillna(train_df['LotFrontage'].dropna().median())\n",
    "train_df = MasVnrArea_nanVal(train_df)\n",
    "train_df ['MasVnrArea'] = train_df['MasVnrArea'].fillna(train_df['MasVnrArea'].dropna().median())\n",
    "train_df ['GarageYrBlt'] = train_df['GarageYrBlt'].fillna(train_df['GarageYrBlt'].dropna().median())\n",
    "\n"
   ]
  },
  {
   "cell_type": "code",
   "execution_count": 12,
   "metadata": {},
   "outputs": [
    {
     "data": {
      "text/plain": [
       "0"
      ]
     },
     "execution_count": 12,
     "metadata": {},
     "output_type": "execute_result"
    }
   ],
   "source": [
    "train_df['MasVnrArea'].isnull().sum()"
   ]
  },
  {
   "cell_type": "code",
   "execution_count": 13,
   "metadata": {},
   "outputs": [
    {
     "data": {
      "text/plain": [
       "0"
      ]
     },
     "execution_count": 13,
     "metadata": {},
     "output_type": "execute_result"
    }
   ],
   "source": [
    "train_df.isnull().sum().sum()"
   ]
  },
  {
   "cell_type": "code",
   "execution_count": 14,
   "metadata": {},
   "outputs": [],
   "source": [
    "y = train_target"
   ]
  },
  {
   "cell_type": "code",
   "execution_count": 15,
   "metadata": {},
   "outputs": [
    {
     "name": "stdout",
     "output_type": "stream",
     "text": [
      "80\n"
     ]
    }
   ],
   "source": [
    "print(len(train_df.columns))"
   ]
  },
  {
   "cell_type": "code",
   "execution_count": null,
   "metadata": {},
   "outputs": [],
   "source": [
    "pca = PCA(n_components = 60)\n",
    "pca.fit(train_df)\n",
    "\n",
    "x = pca.transform(train_df)"
   ]
  },
  {
   "cell_type": "code",
   "execution_count": null,
   "metadata": {},
   "outputs": [],
   "source": [
    "X_train, X_val, y_train, y_val = train_test_split(x, train_target, random_state = 0, test_size = 0.12)\n",
    "print(len(y_train), len(y_val))"
   ]
  },
  {
   "cell_type": "markdown",
   "metadata": {},
   "source": [
    "sc = StandardScaler()\n",
    "sc.fit(X_train)\n",
    "X_train = sc.transform(X_train)\n",
    "X_val = sc.transform(X_val)"
   ]
  },
  {
   "cell_type": "code",
   "execution_count": null,
   "metadata": {},
   "outputs": [],
   "source": [
    "vr = XGBRegressor(random_state = 0).fit(X_train, y_train)\n",
    "#lr6 = GradientBoostingRegressor(random_state = 0).fit(X_train, y_train)\n",
    "lr7 = XGBRFRegressor(random_forest = 0).fit(X_train, y_train)\n",
    "#lr7 = HistGradientBoostingRegressor(max_depth = 5).fit(X_train, y_train)\n",
    "\n",
    "#vr = VotingRegressor(estimators = [ ('lasso', lr2), ('rcv', lr5),  ('GBR', lr6), ('xgbR', lr4), ('xgbrfr', lr7)]).fit(X_train, y_train)\n",
    "pred = vr.predict(X_val)\n",
    "#pred = lr4.predict(X_val)\n",
    "print(np.sqrt(mean_squared_error(y_val,pred)))"
   ]
  },
  {
   "cell_type": "code",
   "execution_count": null,
   "metadata": {},
   "outputs": [],
   "source": [
    "test_df = encoding(test_df)\n",
    "test_df ['LotFrontage'] = test_df['LotFrontage'].fillna(test_df['LotFrontage'].dropna().median())\n",
    "test_df ['MasVnrArea'] = test_df['MasVnrArea'].fillna(test_df['MasVnrArea'].dropna().median())\n",
    "test_df ['BsmtFinSF1'] = test_df['BsmtFinSF1'].fillna(test_df['BsmtFinSF1'].dropna().median())\n",
    "\n",
    "test_df ['GarageYrBlt'] = test_df['GarageYrBlt'].fillna(test_df['GarageYrBlt'].dropna().median())\n",
    "\n",
    "Ids = test_df.Id\n",
    "test_df = test_df.drop('Id' , axis = 1)\n"
   ]
  },
  {
   "cell_type": "code",
   "execution_count": null,
   "metadata": {},
   "outputs": [],
   "source": [
    "print(test_df.isnull().sum().sum())"
   ]
  },
  {
   "cell_type": "code",
   "execution_count": null,
   "metadata": {},
   "outputs": [],
   "source": [
    "print(test_df.columns[test_df.isnull().sum() !=0])"
   ]
  },
  {
   "cell_type": "code",
   "execution_count": null,
   "metadata": {},
   "outputs": [],
   "source": [
    "test_df ['TotalBsmtSF'] = test_df['TotalBsmtSF'].fillna(test_df['TotalBsmtSF'].dropna().median())\n",
    "test_df ['GarageArea'] = test_df['GarageArea'].fillna(test_df['GarageArea'].dropna().median())\n",
    "test_df ['BsmtFinSF2'] = test_df['BsmtFinSF2'].fillna(test_df['BsmtFinSF2'].dropna().median())\n",
    "test_df ['BsmtUnfSF'] = test_df['BsmtUnfSF'].fillna(test_df['BsmtUnfSF'].dropna().median())\n",
    "test_df ['BsmtFullBath'] = test_df['BsmtFullBath'].fillna(test_df['BsmtFullBath'].dropna().median())\n",
    "test_df ['BsmtHalfBath'] = test_df['BsmtHalfBath'].fillna(test_df['BsmtHalfBath'].dropna().median())\n",
    "test_df ['GarageCars'] = test_df['GarageCars'].fillna(test_df['GarageCars'].dropna().median())"
   ]
  },
  {
   "cell_type": "code",
   "execution_count": null,
   "metadata": {},
   "outputs": [],
   "source": [
    "test_df = pca.transform(test_df)\n",
    "#test_df = sc.transform(test_df)\n",
    "\n",
    "predictions = vr.predict(test_df)\n",
    "data = {'Id': Ids, 'SalePrice': predictions}\n",
    "output = pd.DataFrame(data)\n",
    "output.to_csv('out.csv', index=False)\n",
    "\n",
    "output.head()"
   ]
  },
  {
   "cell_type": "code",
   "execution_count": null,
   "metadata": {},
   "outputs": [],
   "source": []
  }
 ],
 "metadata": {
  "kernelspec": {
   "display_name": "Python 3",
   "language": "python",
   "name": "python3"
  },
  "language_info": {
   "codemirror_mode": {
    "name": "ipython",
    "version": 3
   },
   "file_extension": ".py",
   "mimetype": "text/x-python",
   "name": "python",
   "nbconvert_exporter": "python",
   "pygments_lexer": "ipython3",
   "version": "3.7.6"
  }
 },
 "nbformat": 4,
 "nbformat_minor": 4
}